{
 "cells": [
  {
   "cell_type": "code",
   "execution_count": 12,
   "id": "16859d2d",
   "metadata": {},
   "outputs": [],
   "source": [
    "dict1 = {'One' : 1, 'Two' : 2, 'Three' : 3}\n",
    "dict2 = {'Four' : 4, 'Five' : 5, 'Six' : 6}"
   ]
  },
  {
   "cell_type": "code",
   "execution_count": 13,
   "id": "d752db5f",
   "metadata": {},
   "outputs": [
    {
     "data": {
      "text/plain": [
       "{'One': 1, 'Two': 2, 'Three': 3}"
      ]
     },
     "execution_count": 13,
     "metadata": {},
     "output_type": "execute_result"
    }
   ],
   "source": [
    "dict1"
   ]
  },
  {
   "cell_type": "code",
   "execution_count": 14,
   "id": "9b143291",
   "metadata": {},
   "outputs": [],
   "source": [
    "dict1.update(dict2)"
   ]
  },
  {
   "cell_type": "code",
   "execution_count": 15,
   "id": "b4942263",
   "metadata": {},
   "outputs": [
    {
     "data": {
      "text/plain": [
       "{'One': 1, 'Two': 2, 'Three': 3, 'Four': 4, 'Five': 5, 'Six': 6}"
      ]
     },
     "execution_count": 15,
     "metadata": {},
     "output_type": "execute_result"
    }
   ],
   "source": [
    "dict1"
   ]
  },
  {
   "cell_type": "code",
   "execution_count": 16,
   "id": "1ffa62b5",
   "metadata": {},
   "outputs": [],
   "source": [
    "def extend_dict(d1: dict, d2: dict) -> dict:\n",
    "    return d1 | d2"
   ]
  },
  {
   "cell_type": "code",
   "execution_count": 17,
   "id": "df9951c7",
   "metadata": {},
   "outputs": [
    {
     "data": {
      "text/plain": [
       "{'One': 1, 'Two': 2, 'Three': 3, 'Four': 4, 'Five': 5, 'Six': 6}"
      ]
     },
     "execution_count": 17,
     "metadata": {},
     "output_type": "execute_result"
    }
   ],
   "source": [
    "extend_dict(dict1, dict2)"
   ]
  },
  {
   "cell_type": "code",
   "execution_count": 18,
   "id": "4772ed78",
   "metadata": {},
   "outputs": [],
   "source": [
    "keys = ['One', 'Two', 'Three']\n",
    "values = [1, 2, 3]"
   ]
  },
  {
   "cell_type": "code",
   "execution_count": 39,
   "id": "e707b520",
   "metadata": {},
   "outputs": [
    {
     "data": {
      "text/plain": [
       "{'name': 1, 'age': 2}"
      ]
     },
     "execution_count": 39,
     "metadata": {},
     "output_type": "execute_result"
    }
   ],
   "source": [
    "list_to_dict(keys, values)"
   ]
  },
  {
   "cell_type": "code",
   "execution_count": 20,
   "id": "d185bdb3",
   "metadata": {},
   "outputs": [],
   "source": [
    "def list_to_dict(keys: list, values: list) -> dict:\n",
    "    return dict(zip(keys, values))"
   ]
  },
  {
   "cell_type": "code",
   "execution_count": 21,
   "id": "ec97f8ce",
   "metadata": {},
   "outputs": [],
   "source": [
    "def list_to_dict2(k: list, v: list) -> dict:\n",
    "    dict1 = {}\n",
    "    for i in range(len(k)):\n",
    "        dict1[k[i]] = v[i]\n",
    "    return dict1"
   ]
  },
  {
   "cell_type": "code",
   "execution_count": 22,
   "id": "9f904d67",
   "metadata": {},
   "outputs": [
    {
     "data": {
      "text/plain": [
       "{'One': 1, 'Two': 2, 'Three': 3}"
      ]
     },
     "execution_count": 22,
     "metadata": {},
     "output_type": "execute_result"
    }
   ],
   "source": [
    "list_to_dict2(keys, values)"
   ]
  },
  {
   "cell_type": "code",
   "execution_count": 23,
   "id": "1d9eddd6",
   "metadata": {},
   "outputs": [],
   "source": [
    "dict1 = {keys[i] : values[i] for i in range(len(keys))}"
   ]
  },
  {
   "cell_type": "code",
   "execution_count": 24,
   "id": "065ff807",
   "metadata": {},
   "outputs": [
    {
     "data": {
      "text/plain": [
       "{'One': 1, 'Two': 2, 'Three': 3}"
      ]
     },
     "execution_count": 24,
     "metadata": {},
     "output_type": "execute_result"
    }
   ],
   "source": [
    "dict1"
   ]
  },
  {
   "cell_type": "code",
   "execution_count": 25,
   "id": "a66c4bec",
   "metadata": {},
   "outputs": [],
   "source": [
    "client_dict = {\n",
    "    'name' : 'Jone',\n",
    "    'age' : 25,\n",
    "    'salary' : 50000,\n",
    "    'city' : 'Moscow'\n",
    "}"
   ]
  },
  {
   "cell_type": "code",
   "execution_count": 26,
   "id": "f0b3be32",
   "metadata": {},
   "outputs": [],
   "source": [
    "keys = ['name', 'age']"
   ]
  },
  {
   "cell_type": "code",
   "execution_count": 27,
   "id": "feb5006a",
   "metadata": {},
   "outputs": [],
   "source": [
    "def exctract_keys(c_dict: dict, c_keys: list) -> dict:\n",
    "    new_dict = {}\n",
    "    for item in c_keys:\n",
    "        new_dict[item] = c_dict[item]\n",
    "    return new_dict"
   ]
  },
  {
   "cell_type": "code",
   "execution_count": 28,
   "id": "b6e1e05a",
   "metadata": {},
   "outputs": [
    {
     "data": {
      "text/plain": [
       "{'name': 'Jone', 'age': 25}"
      ]
     },
     "execution_count": 28,
     "metadata": {},
     "output_type": "execute_result"
    }
   ],
   "source": [
    "exctract_keys(client_dict, keys)"
   ]
  },
  {
   "cell_type": "code",
   "execution_count": 29,
   "id": "c8bdc3a2",
   "metadata": {},
   "outputs": [],
   "source": [
    "new_dict1 = {key: client_dict[key] for key in keys}"
   ]
  },
  {
   "cell_type": "code",
   "execution_count": 30,
   "id": "acf87689",
   "metadata": {},
   "outputs": [
    {
     "data": {
      "text/plain": [
       "{'name': 'Jone', 'age': 25}"
      ]
     },
     "execution_count": 30,
     "metadata": {},
     "output_type": "execute_result"
    }
   ],
   "source": [
    "new_dict1"
   ]
  },
  {
   "cell_type": "code",
   "execution_count": 31,
   "id": "bf2419d5",
   "metadata": {},
   "outputs": [],
   "source": [
    "from random import randint, seed"
   ]
  },
  {
   "cell_type": "code",
   "execution_count": 32,
   "id": "2d3477dc",
   "metadata": {},
   "outputs": [],
   "source": [
    "seed(0)\n",
    "num = [randint(0, 100) for i in range(5)]"
   ]
  },
  {
   "cell_type": "code",
   "execution_count": 33,
   "id": "bb61d6d9",
   "metadata": {},
   "outputs": [
    {
     "data": {
      "text/plain": [
       "[49, 97, 53, 5, 33]"
      ]
     },
     "execution_count": 33,
     "metadata": {},
     "output_type": "execute_result"
    }
   ],
   "source": [
    "num"
   ]
  },
  {
   "cell_type": "code",
   "execution_count": 34,
   "id": "d88b1e91",
   "metadata": {},
   "outputs": [],
   "source": [
    "from time import time, sleep"
   ]
  },
  {
   "cell_type": "code",
   "execution_count": 35,
   "id": "669078d3",
   "metadata": {},
   "outputs": [],
   "source": [
    "def time_gen(nums):\n",
    "    last_time = None\n",
    "    for item in nums:\n",
    "        now_time = time()\n",
    "        if last_time:\n",
    "            delta = now_time - last_time\n",
    "        else:\n",
    "            delta = 0\n",
    "        last_time = time()\n",
    "        yield delta, item"
   ]
  },
  {
   "cell_type": "code",
   "execution_count": 36,
   "id": "5a120505",
   "metadata": {},
   "outputs": [
    {
     "name": "stdout",
     "output_type": "stream",
     "text": [
      "(0, 49)\n",
      "(2.001703977584839, 97)\n",
      "(2.0010645389556885, 53)\n",
      "(2.0009677410125732, 5)\n",
      "(2.000986337661743, 33)\n"
     ]
    }
   ],
   "source": [
    "for item in time_gen(num):\n",
    "    print(item)\n",
    "    sleep(2)"
   ]
  },
  {
   "cell_type": "code",
   "execution_count": 37,
   "id": "7690c74b",
   "metadata": {},
   "outputs": [],
   "source": [
    "def sum_mean(*args):\n",
    "    dict_calc = {\n",
    "        'sum_args' : sum(args),\n",
    "        'mean_args' : sum(args) / len(args)\n",
    "    }\n",
    "    return dict_calc"
   ]
  },
  {
   "cell_type": "code",
   "execution_count": 38,
   "id": "0a928181",
   "metadata": {},
   "outputs": [
    {
     "data": {
      "text/plain": [
       "{'sum_args': 6, 'mean_args': 2.0}"
      ]
     },
     "execution_count": 38,
     "metadata": {},
     "output_type": "execute_result"
    }
   ],
   "source": [
    "sum_mean(1, 2, 3)"
   ]
  },
  {
   "cell_type": "code",
   "execution_count": null,
   "id": "f2f8f6dc",
   "metadata": {},
   "outputs": [],
   "source": []
  }
 ],
 "metadata": {
  "kernelspec": {
   "display_name": "Python 3 (ipykernel)",
   "language": "python",
   "name": "python3"
  },
  "language_info": {
   "codemirror_mode": {
    "name": "ipython",
    "version": 3
   },
   "file_extension": ".py",
   "mimetype": "text/x-python",
   "name": "python",
   "nbconvert_exporter": "python",
   "pygments_lexer": "ipython3",
   "version": "3.11.1"
  }
 },
 "nbformat": 4,
 "nbformat_minor": 5
}
